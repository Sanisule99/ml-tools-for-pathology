{
 "cells": [
  {
   "cell_type": "markdown",
   "id": "3f2da09f",
   "metadata": {},
   "source": [
    "# Learning Series #7A — Spatial Transcriptomics × H&E Mini-Demo\n",
    "\n",
    "Co-visualize synthetic gene spots over a tissue image and run quick spatial stats (matplotlib-only)."
   ]
  },
  {
   "cell_type": "markdown",
   "id": "0480c28c",
   "metadata": {},
   "source": [
    "## 0) Setup"
   ]
  },
  {
   "cell_type": "code",
   "execution_count": null,
   "id": "239b8fa9",
   "metadata": {},
   "outputs": [],
   "source": [
    "\n",
    "# !pip install pandas numpy matplotlib pillow\n",
    "import os, numpy as np, pandas as pd, matplotlib.pyplot as plt\n",
    "from matplotlib.patches import Circle\n",
    "from PIL import Image\n",
    "\n",
    "plt.rcParams[\"figure.dpi\"] = 140\n",
    "plt.rcParams[\"savefig.bbox\"] = \"tight\"\n",
    "\n",
    "OUT_DIR = \"outputs\"\n",
    "os.makedirs(OUT_DIR, exist_ok=True)\n",
    "print(\"Saving outputs to:\", OUT_DIR)\n"
   ]
  },
  {
   "cell_type": "markdown",
   "id": "09ed72b0",
   "metadata": {},
   "source": [
    "## 1) Load tissue and spots"
   ]
  },
  {
   "cell_type": "code",
   "execution_count": null,
   "id": "8f0541a8",
   "metadata": {},
   "outputs": [],
   "source": [
    "\n",
    "tissue_path = \"example_tissue.png\"\n",
    "spots_path  = \"example_spots.csv\"\n",
    "img = Image.open(tissue_path)\n",
    "spots = pd.read_csv(spots_path)\n",
    "assert {\"x\",\"y\",\"CD274\",\"GZMB\",\"MKI67\"}.issubset(spots.columns)\n",
    "img.size, spots.shape\n"
   ]
  },
  {
   "cell_type": "markdown",
   "id": "9c7444ba",
   "metadata": {},
   "source": [
    "## 2) Overlay spots (single-plot figure)"
   ]
  },
  {
   "cell_type": "code",
   "execution_count": null,
   "id": "5bf3815a",
   "metadata": {},
   "outputs": [],
   "source": [
    "\n",
    "fig = plt.figure(figsize=(6.5,5))\n",
    "plt.imshow(img)\n",
    "plt.scatter(spots[\"x\"], spots[\"y\"], s=8, alpha=0.8, c=spots[\"CD274\"])\n",
    "plt.title(\"Spots over tissue — CD274 expression\")\n",
    "plt.axis(\"off\")\n",
    "plt.tight_layout()\n",
    "plt.savefig(os.path.join(OUT_DIR, \"overlay_cd274.png\"), dpi=300)\n",
    "plt.savefig(os.path.join(OUT_DIR, \"overlay_cd274.svg\"))\n",
    "plt.show()\n"
   ]
  },
  {
   "cell_type": "markdown",
   "id": "419dcd03",
   "metadata": {},
   "source": [
    "## 3) Neighborhood summary (radius mean smoothing)"
   ]
  },
  {
   "cell_type": "code",
   "execution_count": null,
   "id": "a0fb7cdb",
   "metadata": {},
   "outputs": [],
   "source": [
    "\n",
    "R = 35\n",
    "xy = spots[[\"x\",\"y\"]].values.astype(float)\n",
    "vals = spots[\"MKI67\"].values.astype(float)\n",
    "smooth = np.zeros(len(spots))\n",
    "for i in range(len(spots)):\n",
    "    dx = xy[:,0]-xy[i,0]; dy = xy[:,1]-xy[i,1]\n",
    "    d = np.sqrt(dx*dx+dy*dy)\n",
    "    m = (d <= R)\n",
    "    smooth[i] = vals[m].mean()\n",
    "spots[\"MKI67_smooth\"] = smooth\n",
    "fig = plt.figure(figsize=(6.5,5))\n",
    "plt.imshow(img)\n",
    "plt.scatter(spots[\"x\"], spots[\"y\"], s=8, alpha=0.85, c=spots[\"MKI67_smooth\"])\n",
    "plt.title(\"Neighborhood-smoothed MKI67\")\n",
    "plt.axis(\"off\")\n",
    "plt.tight_layout()\n",
    "plt.savefig(os.path.join(OUT_DIR, \"overlay_mki67_smooth.png\"), dpi=300)\n",
    "plt.savefig(os.path.join(OUT_DIR, \"overlay_mki67_smooth.svg\"))\n",
    "plt.show()\n"
   ]
  },
  {
   "cell_type": "markdown",
   "id": "77b53cfc",
   "metadata": {},
   "source": [
    "## 4) ROI enrichment (mock tumor circle)"
   ]
  },
  {
   "cell_type": "code",
   "execution_count": null,
   "id": "14b1168a",
   "metadata": {},
   "outputs": [],
   "source": [
    "\n",
    "cx, cy, rad = 400, 300, 160\n",
    "dist = np.sqrt((spots[\"x\"]-cx)**2 + (spots[\"y\"]-cy)**2)\n",
    "roi = dist <= rad\n",
    "in_mean  = spots.loc[roi, \"MKI67\"].mean()\n",
    "out_mean = spots.loc[~roi, \"MKI67\"].mean()\n",
    "print(\"MKI67 mean in-ROI:\", round(in_mean, 3))\n",
    "print(\"MKI67 mean out-ROI:\", round(out_mean, 3))\n",
    "\n",
    "fig = plt.figure(figsize=(6.5,5))\n",
    "plt.imshow(img)\n",
    "plt.scatter(spots[\"x\"], spots[\"y\"], s=8, alpha=0.85, c=roi.map({True:1, False:0}))\n",
    "plt.gca().add_patch(Circle((cx,cy), rad, fill=False, linewidth=2))\n",
    "plt.title(\"ROI preview (1=in ROI)\")\n",
    "plt.axis(\"off\")\n",
    "plt.tight_layout()\n",
    "plt.savefig(os.path.join(OUT_DIR, \"roi_preview.png\"), dpi=300)\n",
    "plt.savefig(os.path.join(OUT_DIR, \"roi_preview.svg\"))\n",
    "plt.show()\n"
   ]
  },
  {
   "cell_type": "markdown",
   "id": "9db0e4cb",
   "metadata": {},
   "source": [
    "## 5) Save spot table with smoothing"
   ]
  },
  {
   "cell_type": "code",
   "execution_count": null,
   "id": "d6c0350f",
   "metadata": {},
   "outputs": [],
   "source": [
    "\n",
    "spots.to_csv(os.path.join(OUT_DIR, \"spots_with_smoothing.csv\"), index=False)\n",
    "os.path.exists(os.path.join(OUT_DIR, \"spots_with_smoothing.csv\"))\n"
   ]
  }
 ],
 "metadata": {},
 "nbformat": 4,
 "nbformat_minor": 5
}
