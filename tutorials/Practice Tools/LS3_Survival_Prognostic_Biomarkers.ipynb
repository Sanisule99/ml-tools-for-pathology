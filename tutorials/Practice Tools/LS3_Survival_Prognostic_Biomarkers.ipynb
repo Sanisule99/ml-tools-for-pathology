{
 "cells": [
  {
   "cell_type": "markdown",
   "id": "053f0474",
   "metadata": {},
   "source": [
    "\n",
    "# Learning Series #3 — Survival & Prognostic Biomarker Tools (TCGA)\n",
    "\n",
    "This notebook evaluates survival differences based on gene expression (e.g., **CD274** / PD-L1) using Kaplan–Meier curves and Cox models.\n",
    "\n",
    "> **Tip:** Keep your variable names clean and consistent (e.g., `OS_time`, `OS_event`).\n"
   ]
  },
  {
   "cell_type": "markdown",
   "id": "4849aed5",
   "metadata": {},
   "source": [
    "\n",
    "## 0) Environment\n",
    "Install required libraries if needed.\n"
   ]
  },
  {
   "cell_type": "code",
   "execution_count": null,
   "id": "a0c62492",
   "metadata": {},
   "outputs": [],
   "source": [
    "\n",
    "# If needed, uncomment:\n",
    "# !pip install pandas numpy lifelines matplotlib scipy statsmodels\n"
   ]
  },
  {
   "cell_type": "markdown",
   "id": "20a48f49",
   "metadata": {},
   "source": [
    "\n",
    "## 1) Imports & Settings\n"
   ]
  },
  {
   "cell_type": "code",
   "execution_count": null,
   "id": "9fcee7b6",
   "metadata": {},
   "outputs": [],
   "source": [
    "\n",
    "import pandas as pd\n",
    "import numpy as np\n",
    "import matplotlib.pyplot as plt\n",
    "from lifelines import KaplanMeierFitter\n",
    "from lifelines.statistics import logrank_test\n",
    "from lifelines import CoxPHFitter\n",
    "\n",
    "# Plot settings\n",
    "plt.rcParams[\"figure.dpi\"] = 140\n",
    "plt.rcParams[\"savefig.bbox\"] = \"tight\"\n",
    "\n",
    "print(\"Versions:\")\n",
    "import sys; print(\"Python:\", sys.version.split()[0])\n",
    "import lifelines, matplotlib\n",
    "print(\"lifelines:\", lifelines.__version__)\n",
    "print(\"matplotlib:\", matplotlib.__version__)\n"
   ]
  },
  {
   "cell_type": "markdown",
   "id": "ac81408e",
   "metadata": {},
   "source": [
    "\n",
    "## 2) Load Clinical & Expression Data\n",
    "\n",
    "- `clinical_path` must include at least: `sample_id`, `OS_time`, `OS_event`.\n",
    "- `expr_path` must be a matrix: row = samples, columns = genes; first column `sample_id`.\n"
   ]
  },
  {
   "cell_type": "code",
   "execution_count": null,
   "id": "97f6a220",
   "metadata": {},
   "outputs": [],
   "source": [
    "\n",
    "clinical_path = \"example_clinical.csv\"   # change to your file\n",
    "expr_path = \"example_expression.csv\"     # change to your file\n",
    "\n",
    "clinical = pd.read_csv(clinical_path)\n",
    "expr = pd.read_csv(expr_path)\n",
    "\n",
    "# Basic checks\n",
    "assert \"sample_id\" in clinical.columns, \"clinical must have 'sample_id'\"\n",
    "assert \"OS_time\" in clinical.columns and \"OS_event\" in clinical.columns, \"clinical needs OS_time & OS_event\"\n",
    "assert \"sample_id\" in expr.columns, \"expression must have 'sample_id' column\"\n",
    "\n",
    "# Merge on sample_id (inner join to keep matched samples)\n",
    "df = clinical.merge(expr, on=\"sample_id\", how=\"inner\")\n",
    "print(\"Merged shape:\", df.shape)\n",
    "df.head()\n"
   ]
  },
  {
   "cell_type": "markdown",
   "id": "8a95cf05",
   "metadata": {},
   "source": [
    "\n",
    "## 3) Choose Biomarker & Define Groups\n",
    "Pick a gene symbol present in your expression matrix. We'll create high/low groups based on the median (or a custom cutoff).\n"
   ]
  },
  {
   "cell_type": "code",
   "execution_count": null,
   "id": "89c3312b",
   "metadata": {},
   "outputs": [],
   "source": [
    "\n",
    "biomarker = \"CD274\"  # change to your gene of interest (e.g., \"NKX2-1\" for TTF1, \"GATA3\", \"MKI67\")\n",
    "assert biomarker in df.columns, f\"{biomarker} not found in expression matrix\"\n",
    "\n",
    "# Cut method: 'median' (default) or numeric value (e.g., 5.0 TPM/FPKM/log2 CPM unit)\n",
    "cut_method = \"median\"\n",
    "\n",
    "if cut_method == \"median\":\n",
    "    cutoff = df[biomarker].median()\n",
    "else:\n",
    "    cutoff = float(cut_method)\n",
    "\n",
    "df[\"group\"] = np.where(df[biomarker] >= cutoff, \"High\", \"Low\")\n",
    "df[\"group\"].value_counts()\n"
   ]
  },
  {
   "cell_type": "markdown",
   "id": "033787cb",
   "metadata": {},
   "source": [
    "\n",
    "## 4) Kaplan–Meier Survival Curves + Log-rank Test\n"
   ]
  },
  {
   "cell_type": "code",
   "execution_count": null,
   "id": "3c56a8c1",
   "metadata": {},
   "outputs": [],
   "source": [
    "\n",
    "time_col = \"OS_time\"     # ensure units are consistent (days vs months)\n",
    "event_col = \"OS_event\"\n",
    "\n",
    "kmf = KaplanMeierFitter()\n",
    "\n",
    "fig = plt.figure(figsize=(5,4))\n",
    "for label in [\"High\", \"Low\"]:\n",
    "    mask = df[\"group\"] == label\n",
    "    kmf.fit(df.loc[mask, time_col], df.loc[mask, event_col], label=label)\n",
    "    kmf.plot_survival_function()  # do not set specific colors per instructions\n",
    "\n",
    "plt.title(f\"KM: {biomarker} High vs Low\")\n",
    "plt.xlabel(\"Time\")\n",
    "plt.ylabel(\"Survival probability\")\n",
    "plt.grid(True, alpha=0.3)\n",
    "plt.show()\n",
    "\n",
    "# Log-rank test\n",
    "high = df[df[\"group\"] == \"High\"]\n",
    "low  = df[df[\"group\"] == \"Low\"]\n",
    "res = logrank_test(high[time_col], low[time_col], event_observed_A=high[event_col], event_observed_B=low[event_col])\n",
    "print(\"Log-rank p-value:\", res.p_value)\n"
   ]
  },
  {
   "cell_type": "markdown",
   "id": "8e2283bb",
   "metadata": {},
   "source": [
    "\n",
    "## 5) Univariable & Multivariable Cox PH\n",
    "We model hazard as a function of the biomarker (continuous) and optionally covariates (e.g., age, stage).\n"
   ]
  },
  {
   "cell_type": "code",
   "execution_count": null,
   "id": "5cb776cb",
   "metadata": {},
   "outputs": [],
   "source": [
    "\n",
    "cox = CoxPHFitter()\n",
    "\n",
    "# Example covariates (add if present in your clinical data)\n",
    "covariates = [\"age\", \"grade\", \"stage\"]  # edit to match your columns\n",
    "existing_covs = [c for c in covariates if c in df.columns]\n",
    "\n",
    "cox_df = df[[time_col, event_col, biomarker] + existing_covs].dropna()\n",
    "cox_df = cox_df.rename(columns={time_col: \"T\", event_col: \"E\"})\n",
    "\n",
    "cox.fit(cox_df, duration_col=\"T\", event_col=\"E\")\n",
    "cox.print_summary()  # HR, CI, p-values\n",
    "\n",
    "# Optional: simple forest-style visualization via summary table\n",
    "summary = cox.summary[[\"coef\", \"exp(coef)\", \"p\", \"exp(coef) lower 95%\", \"exp(coef) upper 95%\"]]\n",
    "summary\n"
   ]
  },
  {
   "cell_type": "markdown",
   "id": "24611272",
   "metadata": {},
   "source": [
    "\n",
    "## 6) Batch Analysis (Multiple Markers)\n",
    "Loop over a gene list to compute univariable HRs and make a compact forest plot.\n"
   ]
  },
  {
   "cell_type": "code",
   "execution_count": null,
   "id": "42e04fba",
   "metadata": {},
   "outputs": [],
   "source": [
    "\n",
    "gene_list = [\"CD274\", \"GATA3\", \"NKX2-1\"]  # change as needed\n",
    "rows = []\n",
    "\n",
    "for g in gene_list:\n",
    "    if g not in df.columns: \n",
    "        continue\n",
    "    tmp = df[[time_col, event_col, g]].dropna().rename(columns={time_col: \"T\", event_col: \"E\"})\n",
    "    if tmp[g].nunique() < 3:\n",
    "        continue\n",
    "    c = CoxPHFitter()\n",
    "    try:\n",
    "        c.fit(tmp, duration_col=\"T\", event_col=\"E\")\n",
    "        s = c.summary.loc[g, :]\n",
    "        rows.append({\n",
    "            \"gene\": g,\n",
    "            \"HR\": s[\"exp(coef)\"],\n",
    "            \"HR_lower\": s[\"exp(coef) lower 95%\"],\n",
    "            \"HR_upper\": s[\"exp(coef) upper 95%\"],\n",
    "            \"p\": s[\"p\"]\n",
    "        })\n",
    "    except Exception as e:\n",
    "        print(f\"Skipping {g}: {e}\")\n",
    "\n",
    "hr_df = pd.DataFrame(rows).sort_values(\"HR\")\n",
    "hr_df\n"
   ]
  },
  {
   "cell_type": "code",
   "execution_count": null,
   "id": "8d4e26bb",
   "metadata": {},
   "outputs": [],
   "source": [
    "\n",
    "# Simple forest plot\n",
    "if not hr_df.empty:\n",
    "    fig = plt.figure(figsize=(6, 0.5*len(hr_df) + 1))\n",
    "    y = np.arange(len(hr_df))\n",
    "    plt.errorbar(hr_df[\"HR\"], y, xerr=[hr_df[\"HR\"]-hr_df[\"HR_lower\"], hr_df[\"HR_upper\"]-hr_df[\"HR\"]], fmt='o')\n",
    "    plt.axvline(1.0, linestyle=\"--\")\n",
    "    plt.yticks(y, hr_df[\"gene\"])\n",
    "    plt.xlabel(\"Hazard Ratio (HR)\")\n",
    "    plt.title(\"Univariable Cox HRs\")\n",
    "    plt.grid(True, axis=\"x\", alpha=0.3)\n",
    "    plt.tight_layout()\n",
    "    plt.show()\n"
   ]
  },
  {
   "cell_type": "markdown",
   "id": "d0611e48",
   "metadata": {},
   "source": [
    "\n",
    "## 7) Save Outputs\n"
   ]
  },
  {
   "cell_type": "code",
   "execution_count": null,
   "id": "1027cd3c",
   "metadata": {},
   "outputs": [],
   "source": [
    "\n",
    "# Tables\n",
    "out_table = \"cox_summary_table.csv\"\n",
    "summary.to_csv(out_table, index=True)\n",
    "print(f\"Saved: {out_table}\")\n",
    "\n",
    "# Figures: re-run the plots above and call plt.savefig('filename.png') where needed.\n",
    "# Example:\n",
    "# plt.savefig(\"km_cd274_high_low.png\", dpi=300)\n"
   ]
  },
  {
   "cell_type": "markdown",
   "id": "201267bc",
   "metadata": {},
   "source": [
    "\n",
    "## 8) Notes & Tips\n",
    "- For TCGA, ensure consistent units for survival time (days/months) and that censoring is correct.\n",
    "- Consider adding stage/grade as covariates for multivariable models.\n",
    "- Try alternate cutoffs (tertiles, quartiles). For immunomarkers (e.g., PD-L1), consider clinically meaningful thresholds if known.\n",
    "- Validate proportional hazards assumptions (e.g., with `lifelines` `check_assumptions`).\n",
    "\n",
    "*Happy analyzing!* 👩‍⚕️🧬\n"
   ]
  }
 ],
 "metadata": {},
 "nbformat": 4,
 "nbformat_minor": 5
}
