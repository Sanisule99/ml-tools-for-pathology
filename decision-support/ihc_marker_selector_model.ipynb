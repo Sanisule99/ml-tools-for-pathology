{
 "cells": [
  {
   "cell_type": "markdown",
   "id": "cfcbba34",
   "metadata": {},
   "source": [
    "## IHC Marker Selector"
   ]
  },
  {
   "cell_type": "code",
   "execution_count": null,
   "id": "c4172c7e",
   "metadata": {},
   "outputs": [],
   "source": [
    "# Your model code here"
   ]
  }
 ],
 "metadata": {},
 "nbformat": 4,
 "nbformat_minor": 5
}
