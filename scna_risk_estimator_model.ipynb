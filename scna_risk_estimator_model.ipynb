{
 "cells": [
  {
   "cell_type": "markdown",
   "id": "fcbf5c18",
   "metadata": {},
   "source": [
    "## SCNA Risk Estimator"
   ]
  },
  {
   "cell_type": "code",
   "execution_count": null,
   "id": "aebc69eb",
   "metadata": {},
   "outputs": [],
   "source": [
    "# Your model code here"
   ]
  }
 ],
 "metadata": {},
 "nbformat": 4,
 "nbformat_minor": 5
}
